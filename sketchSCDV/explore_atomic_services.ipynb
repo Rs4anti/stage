{
 "cells": [
  {
   "cell_type": "code",
   "execution_count": 1,
   "id": "5f23a3eb",
   "metadata": {},
   "outputs": [],
   "source": [
    "from scdv.utilities.mongodb_dataframe_builder import AtomicServiceDataFrameBuilder\n",
    "from scdv.utilities.mongodb_handler import atomic_services_collection, atomic_df\n",
    "import pandas as pd"
   ]
  },
  {
   "cell_type": "code",
   "execution_count": 4,
   "id": "6315651f",
   "metadata": {},
   "outputs": [],
   "source": [
    "task_id = 'Activity_1u1y293'\n",
    "doc = atomic_df.find_one({'task_id': task_id})"
   ]
  },
  {
   "cell_type": "code",
   "execution_count": 5,
   "id": "7f2b127f",
   "metadata": {},
   "outputs": [
    {
     "name": "stdout",
     "output_type": "stream",
     "text": [
      "✅ Documento trovato per task_id: Activity_1u1y293\n",
      "=== Combined DataFrame ===\n"
     ]
    },
    {
     "data": {
      "text/html": [
       "<div>\n",
       "<style scoped>\n",
       "    .dataframe tbody tr th:only-of-type {\n",
       "        vertical-align: middle;\n",
       "    }\n",
       "\n",
       "    .dataframe tbody tr th {\n",
       "        vertical-align: top;\n",
       "    }\n",
       "\n",
       "    .dataframe thead th {\n",
       "        text-align: right;\n",
       "    }\n",
       "</style>\n",
       "<table border=\"1\" class=\"dataframe\">\n",
       "  <thead>\n",
       "    <tr style=\"text-align: right;\">\n",
       "      <th></th>\n",
       "      <th>task_id</th>\n",
       "      <th>diagram_id</th>\n",
       "      <th>name</th>\n",
       "      <th>atomic_type</th>\n",
       "      <th>method</th>\n",
       "      <th>url</th>\n",
       "      <th>owner</th>\n",
       "      <th>input_1</th>\n",
       "      <th>input_1_type</th>\n",
       "      <th>output_1</th>\n",
       "      <th>output_1_type</th>\n",
       "    </tr>\n",
       "  </thead>\n",
       "  <tbody>\n",
       "    <tr>\n",
       "      <th>0</th>\n",
       "      <td>Activity_1u1y293</td>\n",
       "      <td>68ba949320c6967d681d1d95</td>\n",
       "      <td>Send Data for Sales Order</td>\n",
       "      <td>dispatch</td>\n",
       "      <td>POST</td>\n",
       "      <td>/send_data_order</td>\n",
       "      <td>Customer</td>\n",
       "      <td>100</td>\n",
       "      <td>integer</td>\n",
       "      <td>100</td>\n",
       "      <td>integer</td>\n",
       "    </tr>\n",
       "  </tbody>\n",
       "</table>\n",
       "</div>"
      ],
      "text/plain": [
       "            task_id                diagram_id                       name  \\\n",
       "0  Activity_1u1y293  68ba949320c6967d681d1d95  Send Data for Sales Order   \n",
       "\n",
       "  atomic_type method               url     owner input_1 input_1_type  \\\n",
       "0    dispatch   POST  /send_data_order  Customer     100      integer   \n",
       "\n",
       "  output_1 output_1_type  \n",
       "0      100       integer  "
      ]
     },
     "metadata": {},
     "output_type": "display_data"
    }
   ],
   "source": [
    "\n",
    "\n",
    "if not doc:\n",
    "    print(f\"❌ Nessun documento trovato per task_id: {task_id}\")\n",
    "else:\n",
    "    print(f\"✅ Documento trovato per task_id: {task_id}\")\n",
    "\n",
    "    # Prendi la lista dentro 'data'\n",
    "    data_list = doc.get('data', [])\n",
    "\n",
    "    if not data_list:\n",
    "        print(\"⚠️ Nessun dato nella chiave 'data'\")\n",
    "    else:\n",
    "        # Crea DataFrame unico\n",
    "        df = pd.DataFrame(data_list)\n",
    "\n",
    "        # Mostra DataFrame\n",
    "        print(\"=== Combined DataFrame ===\")\n",
    "        display(df)"
   ]
  },
  {
   "cell_type": "code",
   "execution_count": 6,
   "id": "801fc96f",
   "metadata": {},
   "outputs": [
    {
     "name": "stdout",
     "output_type": "stream",
     "text": [
      "<class 'pandas.core.frame.DataFrame'>\n",
      "RangeIndex: 1 entries, 0 to 0\n",
      "Data columns (total 11 columns):\n",
      " #   Column         Non-Null Count  Dtype \n",
      "---  ------         --------------  ----- \n",
      " 0   task_id        1 non-null      object\n",
      " 1   diagram_id     1 non-null      object\n",
      " 2   name           1 non-null      object\n",
      " 3   atomic_type    1 non-null      object\n",
      " 4   method         1 non-null      object\n",
      " 5   url            1 non-null      object\n",
      " 6   owner          1 non-null      object\n",
      " 7   input_1        1 non-null      object\n",
      " 8   input_1_type   1 non-null      object\n",
      " 9   output_1       1 non-null      object\n",
      " 10  output_1_type  1 non-null      object\n",
      "dtypes: object(11)\n",
      "memory usage: 220.0+ bytes\n"
     ]
    }
   ],
   "source": [
    "df.info()"
   ]
  }
 ],
 "metadata": {
  "kernelspec": {
   "display_name": ".venv",
   "language": "python",
   "name": "python3"
  },
  "language_info": {
   "codemirror_mode": {
    "name": "ipython",
    "version": 3
   },
   "file_extension": ".py",
   "mimetype": "text/x-python",
   "name": "python",
   "nbconvert_exporter": "python",
   "pygments_lexer": "ipython3",
   "version": "3.12.7"
  }
 },
 "nbformat": 4,
 "nbformat_minor": 5
}
