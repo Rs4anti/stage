{
 "cells": [
  {
   "cell_type": "code",
   "execution_count": 10,
   "id": "5f23a3eb",
   "metadata": {},
   "outputs": [],
   "source": [
    "from scdv.utilities.mongodb_dataframe_builder import AtomicServiceDataFrameBuilder\n",
    "from scdv.utilities.mongodb_handler import atomic_services_collection, atomic_df\n",
    "import pandas as pd"
   ]
  },
  {
   "cell_type": "code",
   "execution_count": 13,
   "id": "6315651f",
   "metadata": {},
   "outputs": [],
   "source": [
    "task_id = 'Activity_0a0lhos'\n",
    "doc = atomic_df.find_one({'task_id': task_id})"
   ]
  },
  {
   "cell_type": "code",
   "execution_count": 14,
   "id": "7f2b127f",
   "metadata": {},
   "outputs": [
    {
     "name": "stdout",
     "output_type": "stream",
     "text": [
      "✅ Documento trovato per task_id: Activity_0a0lhos\n",
      "=== Combined DataFrame ===\n"
     ]
    },
    {
     "data": {
      "text/html": [
       "<div>\n",
       "<style scoped>\n",
       "    .dataframe tbody tr th:only-of-type {\n",
       "        vertical-align: middle;\n",
       "    }\n",
       "\n",
       "    .dataframe tbody tr th {\n",
       "        vertical-align: top;\n",
       "    }\n",
       "\n",
       "    .dataframe thead th {\n",
       "        text-align: right;\n",
       "    }\n",
       "</style>\n",
       "<table border=\"1\" class=\"dataframe\">\n",
       "  <thead>\n",
       "    <tr style=\"text-align: right;\">\n",
       "      <th></th>\n",
       "      <th>task_id</th>\n",
       "      <th>diagram_id</th>\n",
       "      <th>name</th>\n",
       "      <th>atomic_type</th>\n",
       "      <th>method</th>\n",
       "      <th>url</th>\n",
       "      <th>owner</th>\n",
       "      <th>input_1</th>\n",
       "      <th>input_1_type</th>\n",
       "      <th>input_2</th>\n",
       "      <th>input_2_type</th>\n",
       "      <th>input_3</th>\n",
       "      <th>input_3_type</th>\n",
       "      <th>input_4</th>\n",
       "      <th>input_4_type</th>\n",
       "      <th>output_1</th>\n",
       "      <th>output_1_type</th>\n",
       "      <th>output_2</th>\n",
       "      <th>output_2_type</th>\n",
       "    </tr>\n",
       "  </thead>\n",
       "  <tbody>\n",
       "    <tr>\n",
       "      <th>0</th>\n",
       "      <td>Activity_0a0lhos</td>\n",
       "      <td>687e4466b262d54c9335c8c4</td>\n",
       "      <td>prova</td>\n",
       "      <td>collect</td>\n",
       "      <td>GET</td>\n",
       "      <td>/url1</td>\n",
       "      <td>paolo</td>\n",
       "      <td>a</td>\n",
       "      <td>string</td>\n",
       "      <td>b</td>\n",
       "      <td>string</td>\n",
       "      <td>3.0</td>\n",
       "      <td>float</td>\n",
       "      <td>4.58</td>\n",
       "      <td>float</td>\n",
       "      <td>bici</td>\n",
       "      <td>string</td>\n",
       "      <td>False</td>\n",
       "      <td>boolean</td>\n",
       "    </tr>\n",
       "  </tbody>\n",
       "</table>\n",
       "</div>"
      ],
      "text/plain": [
       "            task_id                diagram_id   name atomic_type method  \\\n",
       "0  Activity_0a0lhos  687e4466b262d54c9335c8c4  prova     collect    GET   \n",
       "\n",
       "     url  owner input_1 input_1_type input_2 input_2_type input_3  \\\n",
       "0  /url1  paolo       a       string       b       string     3.0   \n",
       "\n",
       "  input_3_type input_4 input_4_type output_1 output_1_type output_2  \\\n",
       "0        float    4.58        float     bici        string    False   \n",
       "\n",
       "  output_2_type  \n",
       "0       boolean  "
      ]
     },
     "metadata": {},
     "output_type": "display_data"
    }
   ],
   "source": [
    "\n",
    "\n",
    "if not doc:\n",
    "    print(f\"❌ Nessun documento trovato per task_id: {task_id}\")\n",
    "else:\n",
    "    print(f\"✅ Documento trovato per task_id: {task_id}\")\n",
    "\n",
    "    # Prendi la lista dentro 'data'\n",
    "    data_list = doc.get('data', [])\n",
    "\n",
    "    if not data_list:\n",
    "        print(\"⚠️ Nessun dato nella chiave 'data'\")\n",
    "    else:\n",
    "        # Crea DataFrame unico\n",
    "        df = pd.DataFrame(data_list)\n",
    "\n",
    "        # Mostra DataFrame\n",
    "        print(\"=== Combined DataFrame ===\")\n",
    "        display(df)"
   ]
  }
 ],
 "metadata": {
  "kernelspec": {
   "display_name": ".venv",
   "language": "python",
   "name": "python3"
  },
  "language_info": {
   "codemirror_mode": {
    "name": "ipython",
    "version": 3
   },
   "file_extension": ".py",
   "mimetype": "text/x-python",
   "name": "python",
   "nbconvert_exporter": "python",
   "pygments_lexer": "ipython3",
   "version": "3.12.7"
  }
 },
 "nbformat": 4,
 "nbformat_minor": 5
}
