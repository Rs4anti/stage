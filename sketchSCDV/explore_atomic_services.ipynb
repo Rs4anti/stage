{
 "cells": [
  {
   "cell_type": "code",
   "execution_count": null,
   "id": "5f23a3eb",
   "metadata": {},
   "outputs": [],
   "source": [
    "from scdv.utilities.mongodb_dataframe_builder import AtomicServiceDataFrameBuilder\n",
    "from scdv.utilities.mongodb_handler import atomic_services_collection"
   ]
  },
  {
   "cell_type": "code",
   "execution_count": null,
   "id": "6315651f",
   "metadata": {},
   "outputs": [],
   "source": [
    "task_id = 'Activity_03a2vh8'\n",
    "\n",
    "doc = atomic_services_collection.find_one({'task_id': task_id})"
   ]
  },
  {
   "cell_type": "code",
   "execution_count": null,
   "id": "7f2b127f",
   "metadata": {},
   "outputs": [
    {
     "name": "stdout",
     "output_type": "stream",
     "text": [
      "✅ Documento trovato per task_id: Activity_03a2vh8\n",
      "=== Overview DataFrame ===\n"
     ]
    },
    {
     "data": {
      "text/html": [
       "<div>\n",
       "<style scoped>\n",
       "    .dataframe tbody tr th:only-of-type {\n",
       "        vertical-align: middle;\n",
       "    }\n",
       "\n",
       "    .dataframe tbody tr th {\n",
       "        vertical-align: top;\n",
       "    }\n",
       "\n",
       "    .dataframe thead th {\n",
       "        text-align: right;\n",
       "    }\n",
       "</style>\n",
       "<table border=\"1\" class=\"dataframe\">\n",
       "  <thead>\n",
       "    <tr style=\"text-align: right;\">\n",
       "      <th></th>\n",
       "      <th>task_id</th>\n",
       "      <th>diagram_id</th>\n",
       "      <th>name</th>\n",
       "      <th>atomic_type</th>\n",
       "      <th>method</th>\n",
       "      <th>url</th>\n",
       "      <th>owner</th>\n",
       "    </tr>\n",
       "  </thead>\n",
       "  <tbody>\n",
       "    <tr>\n",
       "      <th>0</th>\n",
       "      <td>Activity_03a2vh8</td>\n",
       "      <td>687ba71aa948ebaef1cc1600</td>\n",
       "      <td>provadf</td>\n",
       "      <td>process&amp;monitor</td>\n",
       "      <td>GET</td>\n",
       "      <td>/prova</td>\n",
       "      <td>paolo</td>\n",
       "    </tr>\n",
       "  </tbody>\n",
       "</table>\n",
       "</div>"
      ],
      "text/plain": [
       "            task_id                diagram_id     name  ... method     url  owner\n",
       "0  Activity_03a2vh8  687ba71aa948ebaef1cc1600  provadf  ...    GET  /prova  paolo\n",
       "\n",
       "[1 rows x 7 columns]"
      ]
     },
     "metadata": {},
     "output_type": "display_data"
    },
    {
     "name": "stdout",
     "output_type": "stream",
     "text": [
      "\n",
      "=== Parameters DataFrame ===\n"
     ]
    },
    {
     "data": {
      "text/html": [
       "<div>\n",
       "<style scoped>\n",
       "    .dataframe tbody tr th:only-of-type {\n",
       "        vertical-align: middle;\n",
       "    }\n",
       "\n",
       "    .dataframe tbody tr th {\n",
       "        vertical-align: top;\n",
       "    }\n",
       "\n",
       "    .dataframe thead th {\n",
       "        text-align: right;\n",
       "    }\n",
       "</style>\n",
       "<table border=\"1\" class=\"dataframe\">\n",
       "  <thead>\n",
       "    <tr style=\"text-align: right;\">\n",
       "      <th></th>\n",
       "      <th>task_id</th>\n",
       "      <th>param_name</th>\n",
       "      <th>param_type</th>\n",
       "      <th>io_type</th>\n",
       "    </tr>\n",
       "  </thead>\n",
       "  <tbody>\n",
       "    <tr>\n",
       "      <th>0</th>\n",
       "      <td>Activity_03a2vh8</td>\n",
       "      <td>a</td>\n",
       "      <td>string</td>\n",
       "      <td>input</td>\n",
       "    </tr>\n",
       "    <tr>\n",
       "      <th>1</th>\n",
       "      <td>Activity_03a2vh8</td>\n",
       "      <td>True</td>\n",
       "      <td>bool</td>\n",
       "      <td>input</td>\n",
       "    </tr>\n",
       "    <tr>\n",
       "      <th>2</th>\n",
       "      <td>Activity_03a2vh8</td>\n",
       "      <td>2.0</td>\n",
       "      <td>float</td>\n",
       "      <td>input</td>\n",
       "    </tr>\n",
       "    <tr>\n",
       "      <th>3</th>\n",
       "      <td>Activity_03a2vh8</td>\n",
       "      <td>3.775</td>\n",
       "      <td>float</td>\n",
       "      <td>input</td>\n",
       "    </tr>\n",
       "    <tr>\n",
       "      <th>4</th>\n",
       "      <td>Activity_03a2vh8</td>\n",
       "      <td>b</td>\n",
       "      <td>string</td>\n",
       "      <td>output</td>\n",
       "    </tr>\n",
       "    <tr>\n",
       "      <th>5</th>\n",
       "      <td>Activity_03a2vh8</td>\n",
       "      <td>false</td>\n",
       "      <td>bool</td>\n",
       "      <td>output</td>\n",
       "    </tr>\n",
       "    <tr>\n",
       "      <th>6</th>\n",
       "      <td>Activity_03a2vh8</td>\n",
       "      <td>45</td>\n",
       "      <td>int</td>\n",
       "      <td>output</td>\n",
       "    </tr>\n",
       "  </tbody>\n",
       "</table>\n",
       "</div>"
      ],
      "text/plain": [
       "            task_id param_name param_type io_type\n",
       "0  Activity_03a2vh8          a     string   input\n",
       "1  Activity_03a2vh8       True       bool   input\n",
       "2  Activity_03a2vh8        2.0      float   input\n",
       "3  Activity_03a2vh8      3.775      float   input\n",
       "4  Activity_03a2vh8          b     string  output\n",
       "5  Activity_03a2vh8      false       bool  output\n",
       "6  Activity_03a2vh8         45        int  output"
      ]
     },
     "metadata": {},
     "output_type": "display_data"
    }
   ],
   "source": [
    "\n",
    "if not doc:\n",
    "    print(f\"❌ Nessun documento trovato per task_id: {task_id}\")\n",
    "else:\n",
    "    print(f\"✅ Documento trovato per task_id: {task_id}\")\n",
    "\n",
    "    doc.pop('_id', None)\n",
    "    doc['diagram_id'] = str(doc['diagram_id'])\n",
    "\n",
    "    overview_df, params_df = AtomicServiceDataFrameBuilder.from_document(doc)\n",
    "\n",
    "    print(\"=== Overview DataFrame ===\")\n",
    "    display(overview_df)\n",
    "\n",
    "    print(\"\\n=== Parameters DataFrame ===\")\n",
    "    display(params_df)"
   ]
  }
 ],
 "metadata": {
  "kernelspec": {
   "display_name": ".venv",
   "language": "python",
   "name": "python3"
  },
  "language_info": {
   "codemirror_mode": {
    "name": "ipython",
    "version": 3
   },
   "file_extension": ".py",
   "mimetype": "text/x-python",
   "name": "python",
   "nbconvert_exporter": "python",
   "pygments_lexer": "ipython3",
   "version": "3.12.7"
  }
 },
 "nbformat": 4,
 "nbformat_minor": 5
}
