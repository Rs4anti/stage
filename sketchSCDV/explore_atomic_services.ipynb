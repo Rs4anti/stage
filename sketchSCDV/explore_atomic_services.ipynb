{
 "cells": [
  {
   "cell_type": "code",
   "execution_count": null,
   "id": "5f23a3eb",
   "metadata": {},
   "outputs": [],
   "source": [
    "import pandas as pd\n",
    "from pymongo import MongoClient\n",
    "\n",
    "# Importa builder e handler dal tuo progetto\n",
    "from scdv.utilities.mongodb_dataframe_builder import AtomicServiceDataFrameBuilder\n",
    "from scdv.utilities.mongodb_handler import MongoDBHandler, atomic_services_collection"
   ]
  },
  {
   "cell_type": "code",
   "execution_count": null,
   "id": "7f2b127f",
   "metadata": {},
   "outputs": [],
   "source": [
    "# 2️⃣ Prendi un documento da atomic_services\n",
    "task_id = 'Activity_03a2vh8'  # <-- cambia con il task_id che ti interessa\n",
    "\n",
    "doc = atomic_services_collection.find_one({'task_id': task_id})\n",
    "\n",
    "if not doc:\n",
    "    print(f\"❌ Nessun documento trovato per task_id: {task_id}\")\n",
    "else:\n",
    "    print(f\"✅ Documento trovato per task_id: {task_id}\")\n",
    "\n",
    "    # 3️⃣ Pulizia del documento\n",
    "    doc.pop('_id', None)\n",
    "    doc['diagram_id'] = str(doc['diagram_id'])  # assicuriamoci che sia stringa\n",
    "\n",
    "    # 4️⃣ Crea i DataFrame\n",
    "    overview_df, params_df = AtomicServiceDataFrameBuilder.from_document(doc)\n",
    "\n",
    "    # 5️⃣ Visualizza i DataFrame\n",
    "    print(\"=== Overview DataFrame ===\")\n",
    "    display(overview_df)\n",
    "\n",
    "    print(\"\\n=== Parameters DataFrame ===\")\n",
    "    display(params_df)"
   ]
  }
 ],
 "metadata": {
  "kernelspec": {
   "display_name": ".venv",
   "language": "python",
   "name": "python3"
  },
  "language_info": {
   "codemirror_mode": {
    "name": "ipython",
    "version": 3
   },
   "file_extension": ".py",
   "mimetype": "text/x-python",
   "name": "python",
   "nbconvert_exporter": "python",
   "pygments_lexer": "ipython3",
   "version": "3.12.7"
  }
 },
 "nbformat": 4,
 "nbformat_minor": 5
}
